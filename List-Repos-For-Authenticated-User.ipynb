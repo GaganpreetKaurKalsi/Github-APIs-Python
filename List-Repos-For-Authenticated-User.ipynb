{
 "cells": [
  {
   "cell_type": "code",
   "execution_count": 1,
   "metadata": {},
   "outputs": [],
   "source": [
    "import requests\n",
    "import json\n",
    "url = \"https://api.github.com/user/repos\"\n",
    "token = \"e43f7908ad829acd47cf6*********************\""
   ]
  },
  {
   "cell_type": "code",
   "execution_count": 2,
   "metadata": {},
   "outputs": [],
   "source": [
    "headers = {\n",
    "    \"Authorization\":\"token {}\".format(token)\n",
    "}"
   ]
  },
  {
   "cell_type": "code",
   "execution_count": 3,
   "metadata": {},
   "outputs": [],
   "source": [
    "data = {\n",
    "    \"visibility\" : \"all\",\n",
    "    \"type\" : \"all\",\n",
    "    \"sort\" : \"full_name\",\n",
    "    \"direction\" : \"asc\"\n",
    "}"
   ]
  },
  {
   "cell_type": "code",
   "execution_count": 4,
   "metadata": {},
   "outputs": [
    {
     "data": {
      "text/plain": [
       "<Response [200]>"
      ]
     },
     "execution_count": 4,
     "metadata": {},
     "output_type": "execute_result"
    }
   ],
   "source": [
    "output = requests.get(url,data=json.dumps(data),headers=headers)\n",
    "output"
   ]
  },
  {
   "cell_type": "code",
   "execution_count": 5,
   "metadata": {},
   "outputs": [
    {
     "name": "stdout",
     "output_type": "stream",
     "text": [
      "AlumniManagement\n",
      "AlumniManagementSystem\n",
      "BEEE_CU19\n",
      "BEEE_CU_Evaluation\n",
      "Coursera-HTML-CSS-Javascript\n",
      "gaganpreetkaurkalsi.github.io\n",
      "Github-APIs-Python\n",
      "LeetCode-JulyLeetCodingChallenge\n",
      "My-website\n",
      "NewRepository\n",
      "Repo-Using-GithubAPI\n"
     ]
    }
   ],
   "source": [
    "for i in output.json():\n",
    "    print(i[\"name\"])"
   ]
  }
 ],
 "metadata": {
  "kernelspec": {
   "display_name": "Python 3",
   "language": "python",
   "name": "python3"
  },
  "language_info": {
   "codemirror_mode": {
    "name": "ipython",
    "version": 3
   },
   "file_extension": ".py",
   "mimetype": "text/x-python",
   "name": "python",
   "nbconvert_exporter": "python",
   "pygments_lexer": "ipython3",
   "version": "3.8.3"
  }
 },
 "nbformat": 4,
 "nbformat_minor": 4
}
