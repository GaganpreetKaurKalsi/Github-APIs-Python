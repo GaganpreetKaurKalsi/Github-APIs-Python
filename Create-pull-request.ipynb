{
 "cells": [
  {
   "cell_type": "code",
   "execution_count": 1,
   "metadata": {},
   "outputs": [],
   "source": [
    "import requests\n",
    "import json\n",
    "token = \"8024bfb7ec4756e7155a48******************\""
   ]
  },
  {
   "cell_type": "code",
   "execution_count": 2,
   "metadata": {},
   "outputs": [],
   "source": [
    "headers = {\n",
    "    \"Authorization\" : \"token {}\".format(token),\n",
    "    \"Accept\" : \"application/vnd.github.sailor-v-preview+json\"\n",
    "}\n",
    "data= {\n",
    "    \"title\" : \"PullRequest-Using-GithubAPI\",\n",
    "    \"body\" : \"I have amazing new Features\",\n",
    "    \"head\" : \"pull-request\",\n",
    "    \"base\" : \"master\"\n",
    "}"
   ]
  },
  {
   "cell_type": "code",
   "execution_count": 3,
   "metadata": {},
   "outputs": [
    {
     "name": "stdin",
     "output_type": "stream",
     "text": [
      "Enter your Github username :  gaganpreetkaurkalsi\n",
      "Enter the name of the repository :  Repo-Using-GithubAPI\n"
     ]
    }
   ],
   "source": [
    "username = input(\"Enter your Github username : \")\n",
    "Repositoryname = input(\"Enter the name of the repository : \")"
   ]
  },
  {
   "cell_type": "code",
   "execution_count": 4,
   "metadata": {},
   "outputs": [],
   "source": [
    "url = \"https://api.github.com/repos/{}/{}/pulls\".format(username,Repositoryname)"
   ]
  },
  {
   "cell_type": "code",
   "execution_count": 5,
   "metadata": {},
   "outputs": [
    {
     "data": {
      "text/plain": [
       "<Response [201]>"
      ]
     },
     "execution_count": 5,
     "metadata": {},
     "output_type": "execute_result"
    }
   ],
   "source": [
    "requests.post(url,data=json.dumps(data), headers=headers)"
   ]
  }
 ],
 "metadata": {
  "kernelspec": {
   "display_name": "Python 3",
   "language": "python",
   "name": "python3"
  },
  "language_info": {
   "codemirror_mode": {
    "name": "ipython",
    "version": 3
   },
   "file_extension": ".py",
   "mimetype": "text/x-python",
   "name": "python",
   "nbconvert_exporter": "python",
   "pygments_lexer": "ipython3",
   "version": "3.7.4"
  }
 },
 "nbformat": 4,
 "nbformat_minor": 4
}
