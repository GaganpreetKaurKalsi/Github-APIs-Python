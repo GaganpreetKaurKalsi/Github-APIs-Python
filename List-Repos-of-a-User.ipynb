{
 "cells": [
  {
   "cell_type": "code",
   "execution_count": 1,
   "metadata": {},
   "outputs": [],
   "source": [
    "import requests\n",
    "import json"
   ]
  },
  {
   "cell_type": "code",
   "execution_count": 2,
   "metadata": {},
   "outputs": [
    {
     "name": "stdin",
     "output_type": "stream",
     "text": [
      "Enter the name of the User you want to print repository list of :  gaganpreetkaurkalsi\n"
     ]
    }
   ],
   "source": [
    "User = input(\"Enter the name of the User you want to print repository list of : \")\n",
    "url = \"https://api.github.com/users/{}/repos\".format(User)"
   ]
  },
  {
   "cell_type": "code",
   "execution_count": 3,
   "metadata": {},
   "outputs": [],
   "source": [
    "data = {\"type\" : \"all\" , \"sort\" : \"full_name\" , \"direction\" : \"asc\"}"
   ]
  },
  {
   "cell_type": "code",
   "execution_count": 5,
   "metadata": {},
   "outputs": [
    {
     "data": {
      "text/plain": [
       "<Response [200]>"
      ]
     },
     "execution_count": 5,
     "metadata": {},
     "output_type": "execute_result"
    }
   ],
   "source": [
    "output = requests.get(url,data=json.dumps(data))\n",
    "output"
   ]
  },
  {
   "cell_type": "code",
   "execution_count": 6,
   "metadata": {},
   "outputs": [
    {
     "name": "stdout",
     "output_type": "stream",
     "text": [
      "AlumniManagement\n",
      "AlumniManagementSystem\n",
      "BEEE_CU19\n",
      "BEEE_CU_Evaluation\n",
      "Coursera-HTML-CSS-Javascript\n",
      "gaganpreetkaurkalsi.github.io\n",
      "Github-APIs-Python\n",
      "LeetCode-JulyLeetCodingChallenge\n",
      "My-website\n",
      "NewRepository\n",
      "Repo-Using-GithubAPI\n"
     ]
    }
   ],
   "source": [
    "for i in output.json():\n",
    "    print(i[\"name\"])"
   ]
  }
 ],
 "metadata": {
  "kernelspec": {
   "display_name": "Python 3",
   "language": "python",
   "name": "python3"
  },
  "language_info": {
   "codemirror_mode": {
    "name": "ipython",
    "version": 3
   },
   "file_extension": ".py",
   "mimetype": "text/x-python",
   "name": "python",
   "nbconvert_exporter": "python",
   "pygments_lexer": "ipython3",
   "version": "3.8.3"
  }
 },
 "nbformat": 4,
 "nbformat_minor": 4
}
