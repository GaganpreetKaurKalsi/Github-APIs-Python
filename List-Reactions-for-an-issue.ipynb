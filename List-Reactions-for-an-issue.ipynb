{
 "cells": [
  {
   "cell_type": "code",
   "execution_count": 1,
   "metadata": {},
   "outputs": [],
   "source": [
    "import requests\n",
    "import json\n",
    "token = \"cd7139fad2985019421**********************\""
   ]
  },
  {
   "cell_type": "code",
   "execution_count": 2,
   "metadata": {},
   "outputs": [],
   "source": [
    "headers = {\n",
    "    \"Authorization\" : \"token {}\".format(token),\n",
    "    \"Accept\" : \"application/vnd.github.squirrel-girl-preview+json\"\n",
    "}"
   ]
  },
  {
   "cell_type": "code",
   "execution_count": 3,
   "metadata": {},
   "outputs": [
    {
     "name": "stdin",
     "output_type": "stream",
     "text": [
      "Enter your Github username :  gaganpreetkaurkalsi\n",
      "Enter the name of the repository in which the issue is present :  Repo-Using-GithubAPI\n",
      "Enter the Issue Number :  2\n"
     ]
    }
   ],
   "source": [
    "username = input(\"Enter your Github username : \")\n",
    "Repositoryname = input(\"Enter the name of the repository in which the issue is present : \")\n",
    "issueno = input(\"Enter the Issue Number : \")\n",
    "url = \"https://api.github.com/repos/{}/{}/issues/{}/reactions\".format(username,Repositoryname,issueno)"
   ]
  },
  {
   "cell_type": "code",
   "execution_count": 4,
   "metadata": {},
   "outputs": [
    {
     "data": {
      "text/plain": [
       "<Response [200]>"
      ]
     },
     "execution_count": 4,
     "metadata": {},
     "output_type": "execute_result"
    }
   ],
   "source": [
    "output = requests.get(url, headers=headers)\n",
    "output"
   ]
  },
  {
   "cell_type": "code",
   "execution_count": null,
   "metadata": {},
   "outputs": [],
   "source": [
    "output.json()"
   ]
  },
  {
   "cell_type": "code",
   "execution_count": 7,
   "metadata": {},
   "outputs": [
    {
     "name": "stdout",
     "output_type": "stream",
     "text": [
      "laugh\n",
      "hooray\n",
      "heart\n",
      "rocket\n"
     ]
    }
   ],
   "source": [
    "for i in output.json():\n",
    "    print(i[\"content\"])"
   ]
  }
 ],
 "metadata": {
  "kernelspec": {
   "display_name": "Python 3",
   "language": "python",
   "name": "python3"
  },
  "language_info": {
   "codemirror_mode": {
    "name": "ipython",
    "version": 3
   },
   "file_extension": ".py",
   "mimetype": "text/x-python",
   "name": "python",
   "nbconvert_exporter": "python",
   "pygments_lexer": "ipython3",
   "version": "3.8.3"
  }
 },
 "nbformat": 4,
 "nbformat_minor": 4
}
