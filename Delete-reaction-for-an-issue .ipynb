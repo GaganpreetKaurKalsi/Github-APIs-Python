{
 "cells": [
  {
   "cell_type": "code",
   "execution_count": 1,
   "metadata": {},
   "outputs": [],
   "source": [
    "import requests\n",
    "import json\n",
    "token = \"8024bfb7ec4756e7155a*********************\""
   ]
  },
  {
   "cell_type": "code",
   "execution_count": 2,
   "metadata": {},
   "outputs": [],
   "source": [
    "headers = {\n",
    "    \"Authorization\" : \"token {}\".format(token),\n",
    "    \"Accept\" : \"application/vnd.github.squirrel-girl-preview+json\"\n",
    "}"
   ]
  },
  {
   "cell_type": "code",
   "execution_count": 3,
   "metadata": {},
   "outputs": [
    {
     "name": "stdin",
     "output_type": "stream",
     "text": [
      "Enter your Github username :  gaganpreetkaurkalsi\n",
      "Enter the name of the repository :  Repo-Using-GithubAPI\n",
      "Enter the Issue Number :  2\n"
     ]
    }
   ],
   "source": [
    "username = input(\"Enter your Github username : \")\n",
    "Repositoryname = input(\"Enter the name of the repository : \")\n",
    "issueno = input(\"Enter the Issue Number : \")"
   ]
  },
  {
   "cell_type": "code",
   "execution_count": 4,
   "metadata": {},
   "outputs": [
    {
     "name": "stdin",
     "output_type": "stream",
     "text": [
      "Enter the reaction id :  77741038\n"
     ]
    }
   ],
   "source": [
    "reaction_id = input(\"Enter the reaction id : \")\n",
    "url = \"https://api.github.com/repos/{}/{}/issues/{}/reactions/{}\".format(username,Repositoryname,issueno,reaction_id)"
   ]
  },
  {
   "cell_type": "code",
   "execution_count": 5,
   "metadata": {},
   "outputs": [
    {
     "data": {
      "text/plain": [
       "<Response [204]>"
      ]
     },
     "execution_count": 5,
     "metadata": {},
     "output_type": "execute_result"
    }
   ],
   "source": [
    "requests.delete(url, headers=headers)"
   ]
  }
 ],
 "metadata": {
  "kernelspec": {
   "display_name": "Python 3",
   "language": "python",
   "name": "python3"
  },
  "language_info": {
   "codemirror_mode": {
    "name": "ipython",
    "version": 3
   },
   "file_extension": ".py",
   "mimetype": "text/x-python",
   "name": "python",
   "nbconvert_exporter": "python",
   "pygments_lexer": "ipython3",
   "version": "3.7.4"
  }
 },
 "nbformat": 4,
 "nbformat_minor": 4
}
